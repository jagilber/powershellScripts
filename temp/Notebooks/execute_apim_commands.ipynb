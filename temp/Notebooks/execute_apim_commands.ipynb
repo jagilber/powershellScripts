{
 "cells": [
  {
   "cell_type": "markdown",
   "metadata": {},
   "source": [
    "# APIM & Service Fabric Managed Cluster Configuration\n",
    "\n",
    "This notebook executes the PowerShell commands from the How-to guide."
   ]
  },
  {
   "cell_type": "code",
   "execution_count": null,
   "metadata": {},
   "outputs": [],
   "source": [
    "%%pwsh\n",
    "# Step 1: Create an Azure Resource Group\n",
    "$resourceGroupName = 'TestRG'\n",
    "$location = 'EastUS'\n",
    "New-AzResourceGroup -Name $resourceGroupName -Location $location"
   ]
  },
  {
   "cell_type": "code",
   "execution_count": null,
   "metadata": {},
   "outputs": [],
   "source": [
    "%%pwsh\n",
    "# Step 2: Create an Azure NSG for APIM\n",
    "$networkSecurityGroupName = 'vnet-apim-nsg'\n",
    "$networkSecurityGroup = New-AzNetworkSecurityGroup -Name $networkSecurityGroupName -ResourceGroupName $resourceGroupName -Location $location"
   ]
  },
  {
   "cell_type": "code",
   "execution_count": null,
   "metadata": {},
   "outputs": [],
   "source": [
    "%%pwsh\n",
    "# Step 3: Configure NSG rule and update NSG\n",
    "Add-AzNetworkSecurityRuleConfig -Name 'AllowManagementEndpoint' -NetworkSecurityGroup $networkSecurityGroup -Description 'Management endpoint for Azure portal and PowerShell' -Access Allow -Protocol Tcp -Direction Inbound -Priority 300 -SourceAddressPrefix ApiManagement -SourcePortRange * -DestinationAddressPrefix VirtualNetwork -DestinationPortRange 3443\n",
    "Set-AzNetworkSecurityGroup -NetworkSecurityGroup $networkSecurityGroup"
   ]
  },
  {
   "cell_type": "code",
   "execution_count": null,
   "metadata": {},
   "outputs": [],
   "source": [
    "%%pwsh\n",
    "# Step 4: Create Virtual Network (VNet)\n",
    "$vnet = @{\n",
    "    Name = 'VNet'\n",
    "    ResourceGroupName = $resourceGroupName\n",
    "    Location = $location\n",
    "    AddressPrefix = '10.0.0.0/16'\n",
    "}\n",
    "$virtualNetwork = New-AzVirtualNetwork @vnet"
   ]
  },
  {
   "cell_type": "code",
   "execution_count": null,
   "metadata": {},
   "outputs": [],
   "source": [
    "%%pwsh\n",
    "# Step 5: Create subnet configurations\n",
    "$sfmcSubnet = @{ Name = 'sfmc'; VirtualNetwork = $virtualNetwork; AddressPrefix = '10.0.0.0/24' }\n",
    "$apimSubnet = @{ Name = 'apim'; VirtualNetwork = $virtualNetwork; AddressPrefix = '10.0.1.0/24'; NetworkSecurityGroup = $networkSecurityGroup }\n",
    "Add-AzVirtualNetworkSubnetConfig @sfmcSubnet\n",
    "Add-AzVirtualNetworkSubnetConfig @apimSubnet"
   ]
  },
  {
   "cell_type": "code",
   "execution_count": null,
   "metadata": {},
   "outputs": [],
   "source": [
    "%%pwsh\n",
    "# Step 6: Update the VNet with the new subnet configurations\n",
    "$virtualNetwork | Set-AzVirtualNetwork"
   ]
  },
  {
   "cell_type": "code",
   "execution_count": null,
   "metadata": {},
   "outputs": [],
   "source": [
    "%%pwsh\n",
    "# Step 7: Enumerate SFRP principals, get the subnet resource ID and assign role\n",
    "$sfrpPrincipals = @(Get-AzADServicePrincipal -DisplayName 'Azure Service Fabric Resource Provider')\n",
    "$virtualNetwork = Get-AzVirtualNetwork -Name $vnet.Name -ResourceGroupName $resourceGroupName\n",
    "$sfmcSubnetID = $virtualNetwork.Subnets | Where-Object { $_.Name -eq $sfmcSubnet.Name } | Select-Object -ExpandProperty Id\n",
    "foreach ($sfrpPrincipal in $sfrpPrincipals) {\n",
    "    New-AzRoleAssignment -PrincipalId $sfrpPrincipal.Id -RoleDefinitionName 'Network Contributor' -Scope $sfmcSubnetID\n",
    "}"
   ]
  },
  {
   "cell_type": "code",
   "execution_count": null,
   "metadata": {},
   "outputs": [],
   "source": [
    "%%pwsh\n",
    "# Step 8: Create a Public IP Address for APIM\n",
    "$domainNameLabel = 'apimip'\n",
    "$ip = @{ \n",
    "    Name = 'apimip'; \n",
    "    ResourceGroupName = $resourceGroupName; \n",
    "    Location = $location; \n",
    "    Sku = 'Standard'; \n",
    "    AllocationMethod = 'Static'; \n",
    "    IpAddressVersion = 'IPv4'; \n",
    "    DomainNameLabel = $domainNameLabel\n",
    "}\n",
    "New-AzPublicIpAddress @ip"
   ]
  },
  {
   "cell_type": "code",
   "execution_count": null,
   "metadata": {},
   "outputs": [],
   "source": [
    "%%pwsh\n",
    "# Step 9: Create API Management Service with external VNet integration\n",
    "$virtualNetwork = Get-AzVirtualNetwork -Name $vnet.Name -ResourceGroupName $resourceGroupName\n",
    "$apimSubnetId = $virtualNetwork.Subnets | Where-Object { $_.Name -eq $apimSubnet.Name } | Select-Object -ExpandProperty Id\n",
    "$apimNetwork = New-AzApiManagementVirtualNetwork -SubnetResourceId $apimSubnetId\n",
    "$publicIpAddressId = (Get-AzPublicIpAddress -Name $ip.Name -ResourceGroupName $resourceGroupName).Id\n",
    "$apimName = 'myApimCloud'\n",
    "$adminEmail = 'admin@contoso.com'\n",
    "$organization = 'contoso'\n",
    "\n",
    "New-AzApiManagement -ResourceGroupName $resourceGroupName -Location $location -Name $apimName -Organization $organization -AdminEmail $adminEmail -VirtualNetwork $apimNetwork -VpnType 'External' -Sku 'Developer' -PublicIpAddressId $publicIpAddressId"
   ]
  },
  {
   "cell_type": "code",
   "execution_count": null,
   "metadata": {},
   "outputs": [],
   "source": [
    "%%pwsh\n",
    "# Step 10: Deploy the Service Fabric Managed Cluster\n",
    "$templateFile = \"$pwd\\sfmc-template.json\"\n",
    "$adminPassword = '<enter a password>'\n",
    "$clientCertificateThumbprint = '<enter a thumbprint>'\n",
    "\n",
    "$sfmc = @{ \n",
    "  clusterName = 'sfmcapim';\n",
    "  clusterSku = 'Standard';\n",
    "  adminUserName = 'cloudadmin';\n",
    "  adminPassword = $adminPassword;\n",
    "  clientCertificateThumbprint = $clientCertificateThumbprint;\n",
    "  nodeType1name = 'nodetype1';\n",
    "  nodeType1vmSize = 'Standard_D2s_v3';\n",
    "  nodeType1vmInstanceCount = 5;\n",
    "  nodeType1dataDiskSizeGB = 256;\n",
    "  nodeType1vmImagePublisher = 'MicrosoftWindowsServer';\n",
    "  nodeType1vmImageOffer = 'WindowsServer';\n",
    "  nodeType1vmImageSku = '2022-Datacenter';\n",
    "  nodeType1vmImageVersion = 'latest';\n",
    "  subnetId = $sfmcSubnetID\n",
    "}\n",
    "\n",
    "New-AzResourceGroupDeployment -Name 'sfmcDeployment' -ResourceGroupName $resourceGroupName -TemplateFile $templateFile -TemplateParameterObject $sfmc"
   ]
  },
  {
   "cell_type": "code",
   "execution_count": null,
   "metadata": {},
   "outputs": [],
   "source": [
    "%%pwsh\n",
    "# Step 12: Create a system-assigned managed identity for APIM\n",
    "$apimService = Get-AzApiManagement -ResourceGroupName $resourceGroupName -Name $apimName\n",
    "Set-AzApiManagement -InputObject $apimService -SystemAssignedIdentity"
   ]
  },
  {
   "cell_type": "code",
   "execution_count": null,
   "metadata": {},
   "outputs": [],
   "source": [
    "%%pwsh\n",
    "# Step 13: Set Key Vault access policy using APIM managed identity\n",
    "$keyVaultName = 'apimKV'\n",
    "$managedIdentityId = (Get-AzADServicePrincipal -SearchString $apimName).Id\n",
    "Set-AzKeyVaultAccessPolicy -VaultName $keyVaultName -ObjectId $managedIdentityId -PermissionsToSecrets get,list"
   ]
  },
  {
   "cell_type": "code",
   "execution_count": null,
   "metadata": {},
   "outputs": [],
   "source": [
    "%%pwsh\n",
    "# Step 14: Create an Azure Key Vault certificate in APIM\n",
    "$kvcertId = 'apimcloud-com'\n",
    "$secretIdentifier = 'https://apimKV.vault.azure.net/secrets/apimcloud-com/xxxxxxxxxxxxxxxxxxxxxxxxxxxxxxxx'\n",
    "$apiMgmtContext = New-AzApiManagementContext -ResourceGroupName $resourceGroupName -ServiceName $apimName\n",
    "\n",
    "$keyvault = New-AzApiManagementKeyVaultObject -SecretIdentifier $secretIdentifier\n",
    "$keyVaultCertificate = New-AzApiManagementCertificate -Context $apiMgmtContext -CertificateId $kvcertId -KeyVault $keyvault"
   ]
  },
  {
   "cell_type": "code",
   "execution_count": null,
   "metadata": {},
   "outputs": [],
   "source": [
    "%%pwsh\n",
    "# Step 15: Create a Service Fabric backend in APIM\n",
    "$serviceFabricAppUrl = 'fabric:/sfWeatherApiCore/WeatherApi'\n",
    "$clusterName = 'sfmcapim'\n",
    "$clusterResource = Get-AzResource -Name $clusterName -ResourceType 'Microsoft.ServiceFabric/managedclusters'\n",
    "$cluster = Get-AzServiceFabricManagedCluster -Name $clusterName -ResourceGroupName $clusterResource.ResourceGroupName\n",
    "\n",
    "$backend = @{ \n",
    "  apimName = $apimName;\n",
    "  backendName = 'ServiceFabricBackend';\n",
    "  description = 'Service Fabric backend';\n",
    "  clientCertificateThumbprint = $keyVaultCertificate.Thumbprint;\n",
    "  managementEndpoints = @(\"https://$($cluster.Fqdn):$($cluster.HttpGatewayConnectionPort)\");\n",
    "  maxPartitionResolutionRetries = 5;\n",
    "  serviceFabricManagedClusterFqdn = $cluster.Fqdn;\n",
    "  protocol = 'http';\n",
    "  url = $serviceFabricAppUrl;\n",
    "  validateCertificateChain = $false;\n",
    "  validateCertificateName = $false\n",
    "}\n",
    "\n",
    "# Convert backend parameters to JSON and deploy via ARM template\n",
    "$backend | ConvertTo-Json\n",
    "New-AzResourceGroupDeployment -Name 'apimBackendDeployment' -ResourceGroupName $resourceGroupName -TemplateFile \"$pwd\\apim-backend.json\" -TemplateParameterObject $backend"
   ]
  },
  {
   "cell_type": "code",
   "execution_count": null,
   "metadata": {},
   "outputs": [],
   "source": [
    "%%pwsh\n",
    "# Step 16: Create an API in APIM\n",
    "$apiId = 'service-fabric-weatherforecast-app'\n",
    "$apiName = 'Service Fabric WeatherForecast App'\n",
    "$serviceUrl = 'http://servicefabric'  # Not used for Service Fabric\n",
    "New-AzApiManagementApi -Context $apiMgmtContext -ApiId $apiId -Name $apiName -ServiceUrl $serviceUrl -Protocols @('http','https') -Path 'api'"
   ]
  },
  {
   "cell_type": "code",
   "execution_count": null,
   "metadata": {},
   "outputs": [],
   "source": [
    "%%pwsh\n",
    "# Step 17: Create an API Operation\n",
    "$operationId = 'service-fabric-weatherforecast-app-operation'\n",
    "$operationName = 'Service Fabric WeatherForecast App Operation'\n",
    "New-AzApiManagementOperation -Context $apiMgmtContext -ApiId $apiId -OperationId $operationId -Name $operationName -Method 'GET' -UrlTemplate '' -Description ''"
   ]
  },
  {
   "cell_type": "code",
   "execution_count": null,
   "metadata": {},
   "outputs": [],
   "source": [
    "%%pwsh\n",
    "# Step 18: Create an APIM Policy for Service Fabric backend\n",
    "$sfResolveCondition = '@((int)context.Response.StatusCode != 200)'\n",
    "$policyString = \"\n",
    "<policies>\n",
    "    <inbound>\n",
    "        <base />\n",
    "        <set-backend-service backend-id=\\\"ServiceFabricBackend\\\" sf-resolve-condition=\\\"$sfResolveCondition\\\" sf-service-instance-name=\\\"$serviceFabricAppUrl\\\" />\n",
    "    </inbound>\n",
    "    <backend>\n",
    "        <base />\n",
    "    </backend>\n",
    "    <outbound>\n",
    "        <base />\n",
    "    </outbound>\n",
    "    <on-error>\n",
    "        <base />\n",
    "    </on-error>\n",
    "</policies>\"\n",
    "\n",
    "Set-AzApiManagementPolicy -Context $apiMgmtContext -ApiId $apiId -Policy $policyString -Format 'application/vnd.ms-azure-apim.policy.raw+xml'"
   ]
  }
 ],
 "metadata": {
  "language_info": {
   "name": "python"
  }
 },
 "nbformat": 4,
 "nbformat_minor": 2
}
