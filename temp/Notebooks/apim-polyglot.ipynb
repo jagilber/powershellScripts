{
  "cells": [
    {
      "cell_type": "markdown",
      "metadata": {},
      "source": [
        "# APIM PowerShell Setup for Service Fabric Managed Cluster\n",
        "\n",
        "This notebook executes the PowerShell commands from the [How-to-configure-APIM-for-Service-Fabric-Managed-Cluster.md](../Deployment/How-to-configure-APIM-for-Service-Fabric-Managed-Cluster.md) guide."
      ]
    },
    {
      "cell_type": "code",
      "execution_count": 2,
      "id": "2dc54aa2",
      "metadata": {
        "dotnet_interactive": {
          "language": "pwsh"
        },
        "polyglot_notebook": {
          "kernelName": "pwsh"
        },
        "vscode": {
          "languageId": "polyglot-notebook"
        }
      },
      "outputs": [
        {
          "name": "stdout",
          "output_type": "stream",
          "text": [
            "\n",
            "\u001b[32;1mResourceGroupName : \u001b[0mTestRG\n",
            "\u001b[32;1mLocation          : \u001b[0meastus\n",
            "\u001b[32;1mProvisioningState : \u001b[0mSucceeded\n",
            "\u001b[32;1mTags              : \u001b[0m\n",
            "\u001b[32;1mResourceId        : \u001b[0m/subscriptions/d692f14b-8df6-4f72-ab7d-b4b2981a6b58/resourceGroups/TestRG\n",
            "\n"
          ]
        }
      ],
      "source": [
        "# Step 1: Create Resource Group\n",
        "$resourceGroupName = 'TestRG'\n",
        "$location = 'EastUS'\n",
        "New-AzResourceGroup -Name $resourceGroupName -location $location"
      ]
    },
    {
      "cell_type": "code",
      "execution_count": null,
      "id": "5ced3151",
      "metadata": {
        "dotnet_interactive": {
          "language": "pwsh"
        },
        "vscode": {
          "languageId": "polyglot-notebook"
        }
      },
      "outputs": [],
      "source": [
        "# Step 2: Create Network Security Group (NSG)\n",
        "$networkSecurityGroupName = 'vnet-apim-nsg'\n",
        "$networkSecurityGroup = New-AzNetworkSecurityGroup -Name $networkSecurityGroupName `\n",
        "    -ResourceGroupName $resourceGroupName `\n",
        "    -Location $location"
      ]
    },
    {
      "cell_type": "code",
      "execution_count": null,
      "id": "e3661bd1",
      "metadata": {
        "dotnet_interactive": {
          "language": "pwsh"
        },
        "vscode": {
          "languageId": "polyglot-notebook"
        }
      },
      "outputs": [],
      "source": [
        "# Step 3: Configure NSG rules for APIM\n",
        "Add-AzNetworkSecurityRuleConfig -Name 'AllowManagementEndpoint' `\n",
        "  -NetworkSecurityGroup $networkSecurityGroup `\n",
        "  -Description 'Management endpoint for Azure portal and PowerShell' `\n",
        "  -Access Allow `\n",
        "  -Protocol Tcp `\n",
        "  -Direction Inbound `\n",
        "  -Priority 300 `\n",
        "  -SourceAddressPrefix ApiManagement `\n",
        "  -SourcePortRange * `\n",
        "  -DestinationAddressPrefix VirtualNetwork `\n",
        "  -DestinationPortRange 3443\n",
        "\n",
        "# Updates the network security group\n",
        "Set-AzNetworkSecurityGroup -NetworkSecurityGroup $networkSecurityGroup"
      ]
    },
    {
      "cell_type": "code",
      "execution_count": null,
      "id": "ea8e4a79",
      "metadata": {
        "dotnet_interactive": {
          "language": "pwsh"
        },
        "vscode": {
          "languageId": "polyglot-notebook"
        }
      },
      "outputs": [],
      "source": [
        "# Step 4: Create Virtual Network (VNET)\n",
        "$vnet = @{\n",
        "    Name = 'VNet'\n",
        "    ResourceGroupName = $resourceGroupName\n",
        "    Location = $location\n",
        "    AddressPrefix = '10.0.0.0/16'\n",
        "}\n",
        "\n",
        "$virtualNetwork = New-AzVirtualNetwork @vnet"
      ]
    },
    {
      "cell_type": "code",
      "execution_count": null,
      "id": "8fb35b3e",
      "metadata": {
        "dotnet_interactive": {
          "language": "pwsh"
        },
        "vscode": {
          "languageId": "polyglot-notebook"
        }
      },
      "outputs": [],
      "source": [
        "# Step 5: Create subnets for SFMC and APIM\n",
        "$sfmcSubnet = @{\n",
        "    Name = 'sfmc'\n",
        "    VirtualNetwork = $virtualNetwork\n",
        "    AddressPrefix = '10.0.0.0/24'\n",
        "}\n",
        "\n",
        "$apimSubnet = @{\n",
        "    Name = 'apim'\n",
        "    VirtualNetwork = $virtualNetwork\n",
        "    AddressPrefix = '10.0.1.0/24'\n",
        "    NetworkSecurityGroup = $networkSecurityGroup\n",
        "}\n",
        "\n",
        "Add-AzVirtualNetworkSubnetConfig @sfmcSubnet\n",
        "Add-AzVirtualNetworkSubnetConfig @apimSubnet"
      ]
    },
    {
      "cell_type": "code",
      "execution_count": null,
      "id": "96e1e276",
      "metadata": {
        "dotnet_interactive": {
          "language": "pwsh"
        },
        "vscode": {
          "languageId": "polyglot-notebook"
        }
      },
      "outputs": [],
      "source": [
        "# Step 6: Update Virtual Network with new subnets\n",
        "$virtualNetwork | Set-AzVirtualNetwork"
      ]
    },
    {
      "cell_type": "code",
      "execution_count": null,
      "id": "75a23e01",
      "metadata": {
        "dotnet_interactive": {
          "language": "pwsh"
        },
        "vscode": {
          "languageId": "polyglot-notebook"
        }
      },
      "outputs": [],
      "source": [
        "# Step 7: Enumerate the 'Service Fabric Resource Provider' principals\n",
        "$sfrpPrincipals = @(Get-AzADServicePrincipal -DisplayName 'Azure Service Fabric Resource Provider')"
      ]
    },
    {
      "cell_type": "code",
      "execution_count": null,
      "id": "c9110597",
      "metadata": {
        "dotnet_interactive": {
          "language": "pwsh"
        },
        "vscode": {
          "languageId": "polyglot-notebook"
        }
      },
      "outputs": [],
      "source": [
        "# Step 8: Obtain the SUBNET Resource Id for SFMC\n",
        "$virtualNetwork = Get-AzVirtualNetwork -Name $vnet.Name -ResourceGroupName $resourceGroupName\n",
        "$sfmcSubnetID = $virtualNetwork.Subnets | Where-Object Name -eq $sfmcSubnet.Name | Select-Object -ExpandProperty Id"
      ]
    },
    {
      "cell_type": "code",
      "execution_count": null,
      "id": "be3078bc",
      "metadata": {
        "dotnet_interactive": {
          "language": "pwsh"
        },
        "vscode": {
          "languageId": "polyglot-notebook"
        }
      },
      "outputs": [],
      "source": [
        "# Step 9: Assign 'Network Contributor' role\n",
        "foreach($sfrpPrincipal in $sfrpPrincipals) {\n",
        "  New-AzRoleAssignment -PrincipalId $sfrpPrincipal.Id -RoleDefinitionName 'Network Contributor' -Scope $sfmcSubnetID\n",
        "}"
      ]
    },
    {
      "cell_type": "code",
      "execution_count": null,
      "id": "985871f8",
      "metadata": {
        "dotnet_interactive": {
          "language": "pwsh"
        },
        "vscode": {
          "languageId": "polyglot-notebook"
        }
      },
      "outputs": [],
      "source": [
        "# Step 10: Create a Public IP Address for APIM\n",
        "$domainNameLabel = 'apimip'\n",
        "$ip = @{ \n",
        "    Name = 'apimip'\n",
        "    ResourceGroupName = $resourceGroupName\n",
        "    Location = $location\n",
        "    Sku = 'Standard'\n",
        "    AllocationMethod = 'Static'\n",
        "    IpAddressVersion = 'IPv4'\n",
        "    DomainNameLabel = $domainNameLabel\n",
        "}\n",
        "\n",
        "New-AzPublicIpAddress @ip"
      ]
    },
    {
      "cell_type": "code",
      "execution_count": null,
      "id": "9350f5ac",
      "metadata": {
        "dotnet_interactive": {
          "language": "pwsh"
        },
        "vscode": {
          "languageId": "polyglot-notebook"
        }
      },
      "outputs": [],
      "source": [
        "# Step 11: Create API Management Service with external VNET integration\n",
        "$virtualNetwork = Get-AzVirtualNetwork -Name $vnet.Name -ResourceGroupName $resourceGroupName\n",
        "$apimSubnetId = $virtualNetwork.Subnets | Where-Object Name -eq $apimSubnet.Name | Select-Object -ExpandProperty Id\n",
        "$apimNetwork = New-AzApiManagementVirtualNetwork -SubnetResourceId $apimSubnetId\n",
        "$publicIpAddressId = Get-AzPublicIpAddress -Name $ip.Name -ResourceGroupName $resourceGroupName | Select-Object -ExpandProperty Id\n",
        "$apimName = 'myApimCloud'\n",
        "$adminEmail = 'admin@contoso.com'\n",
        "$organization = 'contoso'\n",
        "\n",
        "New-AzApiManagement -ResourceGroupName $resourceGroupName `\n",
        "  -Location $location `\n",
        "  -Name $apimName `\n",
        "  -Organization $organization `\n",
        "  -AdminEmail $adminEmail `\n",
        "  -VirtualNetwork $apimNetwork `\n",
        "  -VpnType 'External' `\n",
        "  -Sku 'Developer' `\n",
        "  -PublicIpAddressId $publicIpAddressId"
      ]
    },
    {
      "cell_type": "code",
      "execution_count": null,
      "id": "fb620314",
      "metadata": {
        "dotnet_interactive": {
          "language": "pwsh"
        },
        "vscode": {
          "languageId": "polyglot-notebook"
        }
      },
      "outputs": [],
      "source": [
        "# Step 12: Deploy Service Fabric Managed Cluster via ARM template\n",
        "$templateFile = \"$pwd\\sfmc-template.json\"\n",
        "$adminPassword = '<enter a password>'\n",
        "$clientCertificateThumbprint = '<enter a thumbprint>'\n",
        "\n",
        "$sfmc = @{ \n",
        "  clusterName = 'sfmcapim'\n",
        "  clusterSku = 'Standard'\n",
        "  adminUserName = 'cloudadmin'\n",
        "  adminPassword = $adminPassword\n",
        "  clientCertificateThumbprint = $clientCertificateThumbprint\n",
        "  nodeType1name = 'nodetype1'\n",
        "  nodeType1vmSize = 'Standard_D2s_v3'\n",
        "  nodeType1vmInstanceCount = 5\n",
        "  nodeType1dataDiskSizeGB = 256\n",
        "  nodeType1vmImagePublisher = 'MicrosoftWindowsServer'\n",
        "  nodeType1vmImageOffer = 'WindowsServer'\n",
        "  nodeType1vmImageSku = '2022-Datacenter'\n",
        "  nodeType1vmImageVersion = 'latest'\n",
        "  subnetId = $sfmcSubnetID\n",
        "}\n",
        "\n",
        "New-AzResourceGroupDeployment -Name 'sfmcDeployment' `\n",
        "  -ResourceGroupName $resourceGroupName `\n",
        "  -TemplateFile $templateFile `\n",
        "  -TemplateParameterObject $sfmc"
      ]
    },
    {
      "cell_type": "code",
      "execution_count": null,
      "id": "0adf0240",
      "metadata": {
        "dotnet_interactive": {
          "language": "pwsh"
        },
        "vscode": {
          "languageId": "polyglot-notebook"
        }
      },
      "outputs": [],
      "source": [
        "# Step 13: Create a system-assigned managed identity for APIM\n",
        "$apimService = Get-AzApiManagement -ResourceGroupName $resourceGroupName -Name $apimName\n",
        "Set-AzApiManagement -InputObject $apimService -SystemAssignedIdentity"
      ]
    },
    {
      "cell_type": "code",
      "execution_count": null,
      "id": "420db009",
      "metadata": {
        "dotnet_interactive": {
          "language": "pwsh"
        },
        "vscode": {
          "languageId": "polyglot-notebook"
        }
      },
      "outputs": [],
      "source": [
        "# Step 14: Configure Key Vault access policy using managed identity\n",
        "$keyVaultName = 'apimKV'\n",
        "$managedIdentityId = (Get-AzADServicePrincipal -SearchString $apimName).Id\n",
        "\n",
        "Set-AzKeyVaultAccessPolicy -VaultName $keyVaultName -ObjectId $managedIdentityId  -PermissionsToSecrets get,list"
      ]
    },
    {
      "cell_type": "code",
      "execution_count": null,
      "id": "a55c249d",
      "metadata": {
        "dotnet_interactive": {
          "language": "pwsh"
        },
        "vscode": {
          "languageId": "polyglot-notebook"
        }
      },
      "outputs": [],
      "source": [
        "# Step 15: Create an Azure Key Vault certificate in APIM\n",
        "$kvcertId = 'apimcloud-com'\n",
        "$secretIdentifier = 'https://apimKV.vault.azure.net/secrets/apimcloud-com/xxxxxxxxxxxxxxxxxxxxxxxxxxxxxxxx'\n",
        "$apiMgmtContext = New-AzApiManagementContext -ResourceGroupName $resourceGroupName -ServiceName $apimName\n",
        "\n",
        "$keyvault = New-AzApiManagementKeyVaultObject -SecretIdentifier $secretIdentifier\n",
        "$keyVaultCertificate = New-AzApiManagementCertificate -Context $apiMgmtContext -CertificateId $kvcertId -KeyVault $keyvault"
      ]
    },
    {
      "cell_type": "code",
      "execution_count": null,
      "id": "d6f5b5e1",
      "metadata": {
        "dotnet_interactive": {
          "language": "pwsh"
        },
        "vscode": {
          "languageId": "polyglot-notebook"
        }
      },
      "outputs": [],
      "source": [
        "# Step 16: Create a Service Fabric backend in APIM using certificate\n",
        "$serviceFabricAppUrl = 'fabric:/sfWeatherApiCore/WeatherApi'\n",
        "$clusterName = 'sfmcapim'\n",
        "$clusterResource = Get-AzResource -Name $clusterName -ResourceType 'Microsoft.ServiceFabric/managedclusters'\n",
        "$cluster = Get-AzServiceFabricManagedCluster -Name $clusterName -ResourceGroupName $clusterResource.ResourceGroupName\n",
        "$serverCertThumbprint = $clusterResource.Properties.clusterCertificateThumbprints\n",
        "$x509CertName = $cluster.ClusterId.Replace('-','')\n",
        "\n",
        "$backend = @{ \n",
        "  apimName = $apimName\n",
        "  backendName = 'ServiceFabricBackend'\n",
        "  description = 'Service Fabric backend'\n",
        "  clientCertificateThumbprint = $keyVaultCertificate.Thumbprint\n",
        "  managementEndpoints = @(\"https://$($cluster.Fqdn):$($cluster.HttpGatewayConnectionPort)\")\n",
        "  maxPartitionResolutionRetries = 5\n",
        "  serviceFabricManagedClusterFqdn = $cluster.Fqdn\n",
        "  protocol = 'http'\n",
        "  url = $serviceFabricAppUrl\n",
        "  validateCertificateChain = $false\n",
        "  validateCertificateName = $false\n",
        "}\n",
        "\n",
        "$backend | ConvertTo-Json\n",
        "\n",
        "New-AzResourceGroupDeployment -Name 'apimBackendDeployment' `\n",
        "  -ResourceGroupName $resourceGroupName `\n",
        "  -TemplateFile \"$pwd\\apim-backend.json\" `\n",
        "  -TemplateParameterObject $backend"
      ]
    },
    {
      "cell_type": "code",
      "execution_count": null,
      "id": "24ea4908",
      "metadata": {
        "dotnet_interactive": {
          "language": "pwsh"
        },
        "vscode": {
          "languageId": "polyglot-notebook"
        }
      },
      "outputs": [],
      "source": [
        "# Step 17: Create an API in APIM\n",
        "$apiId = 'service-fabric-weatherforecast-app'\n",
        "$apiName = 'Service Fabric WeatherForecast App'\n",
        "$serviceUrl = 'http://servicefabric'  # not used for service fabric\n",
        "\n",
        "New-AzApiManagementApi -Context $apiMgmtContext `\n",
        "  -ApiId $apiId `\n",
        "  -Name $apiName `\n",
        "  -ServiceUrl $serviceUrl `\n",
        "  -Protocols @('http', 'https') `\n",
        "  -Path 'api'"
      ]
    },
    {
      "cell_type": "code",
      "execution_count": null,
      "id": "286eca29",
      "metadata": {
        "dotnet_interactive": {
          "language": "pwsh"
        },
        "vscode": {
          "languageId": "polyglot-notebook"
        }
      },
      "outputs": [],
      "source": [
        "# Step 18: Create an API Operation\n",
        "$operationId = 'service-fabric-weatherforecast-app-operation'\n",
        "$operationName = 'Service Fabric WeatherForecast App Operation'\n",
        "\n",
        "New-AzApiManagementOperation -Context $apiMgmtContext `\n",
        "  -ApiId $apiId `\n",
        "  -OperationId $operationId `\n",
        "  -Name $operationName `\n",
        "  -Method 'GET' `\n",
        "  -UrlTemplate '' `\n",
        "  -Description ''"
      ]
    },
    {
      "cell_type": "code",
      "execution_count": null,
      "id": "48252aad",
      "metadata": {
        "dotnet_interactive": {
          "language": "pwsh"
        },
        "vscode": {
          "languageId": "polyglot-notebook"
        }
      },
      "outputs": [],
      "source": [
        "# Step 19: Create an API Policy\n",
        "$sfResolveCondition = '@((int)context.Response.StatusCode != 200)'\n",
        "$policyString = \"\n",
        "<policies>\n",
        "    <inbound>\n",
        "        <base />\n",
        "        <set-backend-service backend-id=\\\"$($backend.backendName)\\\" sf-resolve-condition=\\\"$sfResolveCondition\\\" sf-service-instance-name=\\\"$serviceFabricAppUrl\\\" />\n",
        "    </inbound>\n",
        "    <backend>\n",
        "        <base />\n",
        "    </backend>\n",
        "    <outbound>\n",
        "        <base />\n",
        "    </outbound>\n",
        "    <on-error>\n",
        "        <base />\n",
        "    </on-error>\n",
        "</policies>\"\n",
        "\n",
        "Set-AzApiManagementPolicy -Context $apiMgmtContext `\n",
        "  -ApiId $apiId `\n",
        "  -Policy $policyString `\n",
        "  -Format 'application/vnd.ms-azure-apim.policy.raw+xml'"
      ]
    }
  ],
  "metadata": {
    "kernelspec": {
      "display_name": ".NET (C#)",
      "language": "C#",
      "name": ".net-csharp"
    },
    "language_info": {
      "name": "powershell"
    },
    "polyglot_notebook": {
      "kernelInfo": {
        "defaultKernelName": "csharp",
        "items": [
          {
            "aliases": [],
            "name": "csharp"
          }
        ]
      }
    }
  },
  "nbformat": 4,
  "nbformat_minor": 5
}
